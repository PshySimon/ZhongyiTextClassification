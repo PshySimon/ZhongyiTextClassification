{
 "cells": [
  {
   "cell_type": "code",
   "execution_count": 1,
   "metadata": {},
   "outputs": [],
   "source": [
    "# 将修正过后的文件放回数据集\n",
    "import shutil\n",
    "\n",
    "sources = ['files/关于公布黄山市年度餐饮服务食品安全监察量化分级管理A级公司评审成果的通知.xls',\n",
    " 'files/关于公布黄山市年度餐饮服务食品安全监管量化分级管理A级企业评审成果的通知.xls',\n",
    " 'files/关于公布黄山市年度餐饮服务食品安全监管量化分级管理A级公司评审成果的通知.xls',\n",
    " 'files/关于公布黄山市年度餐饮服务食品安全监管量化分级管理A级公司评审效果的通知.xls',\n",
    " 'files/关于公布黄山市年度餐饮服务食品安全监察量化分级管理A级企业评审效果的通知.xls',\n",
    " 'files/惠州市交通局行政惩办信息_.xls',\n",
    " 'files/惠州市人社局省内定点医疗组织信息_.xls',\n",
    " 'files/惠州市博罗县行政处置信息_.xls',\n",
    " 'files/惠州市卫计局行政处置信息_.xls',\n",
    " 'files/惠州市大亚湾行政处置信息_.xls',\n",
    " 'files/惠州市大亚湾行政惩办信息_.xls',\n",
    " 'files/惠州市惠东县行政惩办信息_.xls',\n",
    " 'files/惠州市惠阳区质监局工业产品生产许可信息_.xls',\n",
    " 'files/惠州市文广新局行政惩办信息_.xls',\n",
    " 'files/惠州市水务局行政处置信息_.xls',\n",
    " 'files/惠州市水务局行政惩办信息_.xls',\n",
    " 'files/惠州市科技局行政处置信息_.xls',\n",
    " 'files/惠州市科技局行政惩办信息_.xls',\n",
    " 'files/惠州市交通局行政处置信息_.xls',\n",
    " 'files/江门市开平市医疗组织信息_.xls']\n",
    "target = \"data/test2\"\n",
    "\n",
    "for source in sources: \n",
    "    shutil.copy(source, target)"
   ]
  },
  {
   "cell_type": "code",
   "execution_count": null,
   "metadata": {},
   "outputs": [],
   "source": []
  }
 ],
 "metadata": {
  "kernelspec": {
   "display_name": "Python 3",
   "language": "python",
   "name": "python3"
  },
  "language_info": {
   "codemirror_mode": {
    "name": "ipython",
    "version": 3
   },
   "file_extension": ".py",
   "mimetype": "text/x-python",
   "name": "python",
   "nbconvert_exporter": "python",
   "pygments_lexer": "ipython3",
   "version": "3.8.3"
  }
 },
 "nbformat": 4,
 "nbformat_minor": 4
}
