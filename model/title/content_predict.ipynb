{
 "cells": [
  {
   "cell_type": "code",
   "execution_count": 4,
   "metadata": {
    "executionInfo": {
     "elapsed": 1695,
     "status": "ok",
     "timestamp": 1607348522049,
     "user": {
      "displayName": "simon phsy",
      "photoUrl": "",
      "userId": "11831948968995323213"
     },
     "user_tz": -480
    },
    "id": "2pViXu8j3fsG"
   },
   "outputs": [],
   "source": [
    "from transformers import BertTokenizer, BertConfig, BertModel\n",
    "from DataIter import DataIter\n",
    "import torch\n",
    "import numpy as np\n",
    "import torch.nn as nn\n",
    "\n",
    "# 这份模型跑内容\n",
    "class Config:\n",
    "    def __init__(self):\n",
    "        self.bert_path = \"Ernie\"\n",
    "        self.tokenizer = BertTokenizer.from_pretrained(self.bert_path)\n",
    "        self.max_length = 100\n",
    "        self.dropout = 0.2\n",
    "        self.num_classes = 20\n",
    "        self.device = torch.device(\"cuda\") \\\n",
    "            if torch.cuda.is_available() else torch.device(\"cpu\")\n",
    "        self.batch_size = 32\n",
    "        self.num_epochs = 10\n",
    "        self.learning_rate = 5e-5\n",
    "        self.weight_decay = 0.02\n",
    "        self.adam_epsilon = 1e-8\n",
    "        self.warmup_rate = 0.1\n",
    "        self.filter_sizes = [2,3,4,5]\n",
    "        self.num_filters = 128\n",
    "        \n",
    "# 设置种子\n",
    "\n",
    "torch.manual_seed(2020)\n",
    "np.random.seed(2020)\n",
    "torch.manual_seed(2020)\n",
    "torch.cuda.manual_seed_all(2020)\n",
    "torch.backends.cudnn.deterministic = True  # cudnn 使用确定性算法，保证每次结果一样\n"
   ]
  },
  {
   "cell_type": "code",
   "execution_count": 5,
   "metadata": {
    "executionInfo": {
     "elapsed": 1633,
     "status": "ok",
     "timestamp": 1607348527116,
     "user": {
      "displayName": "simon phsy",
      "photoUrl": "",
      "userId": "11831948968995323213"
     },
     "user_tz": -480
    },
    "id": "leX_yUcr3fsH"
   },
   "outputs": [],
   "source": [
    "# Bert-TextCNN\n",
    "class Model(nn.Module):\n",
    "    \n",
    "    def __init__(self, config):\n",
    "        super().__init__()\n",
    "        self.bert_config = BertConfig.from_pretrained(config.bert_path)\n",
    "        self.bert = BertModel.from_pretrained(config.bert_path, config = self.bert_config)\n",
    "        # 然后是提取特征\n",
    "        self.convs = nn.ModuleList(\n",
    "            [nn.Conv1d(self.bert_config.hidden_size, config.num_filters,x) for x in config.filter_sizes]\n",
    "        )\n",
    "        self.dropout = nn.Dropout(config.dropout)\n",
    "        # 最后都要经过池化层，使得输出为\n",
    "        self.fc = nn.Linear(config.num_filters * len(config.filter_sizes), config.num_classes)\n",
    "        self.relu = nn.ReLU()\n",
    "        \n",
    "    def pool(self, out, conv):\n",
    "        out = self.relu(conv(out))\n",
    "        max_pool = nn.MaxPool1d(out.shape[-1])\n",
    "        out = max_pool(out)\n",
    "        out = out.squeeze(2)\n",
    "        return out\n",
    "        \n",
    "    def forward(self,input_ids, attention_masks):\n",
    "        embedded = self.bert(input_ids, attention_mask = attention_masks)[0]\n",
    "        # embedding = [batch_size, seq_len, emb_dim]\n",
    "        embedded = embedded.permute(0,2,1)\n",
    "        # embedded = [batch_size, seq_len, emb_dim]\n",
    "        output = [self.pool(embedded, conv) for conv in self.convs]\n",
    "        # output = num_filter_sizes * [batch_size, num_filters]\n",
    "        out = torch.cat(output, dim=1)\n",
    "        # out = [batch_size, num_filter_sizes * num_filters]\n",
    "        out = self.dropout(out)\n",
    "        out = self.fc(out)\n",
    "        return out\n"
   ]
  },
  {
   "cell_type": "code",
   "execution_count": 6,
   "metadata": {
    "colab": {
     "base_uri": "https://localhost:8080/"
    },
    "executionInfo": {
     "elapsed": 85876,
     "status": "ok",
     "timestamp": 1607348614730,
     "user": {
      "displayName": "simon phsy",
      "photoUrl": "",
      "userId": "11831948968995323213"
     },
     "user_tz": -480
    },
    "id": "v8CjTefb3fsH",
    "outputId": "f38a9449-3201-43d2-9b65-595cd9914018"
   },
   "outputs": [
    {
     "name": "stderr",
     "output_type": "stream",
     "text": [
      "11712it [00:14, 803.16it/s]\n",
      "49306it [01:02, 791.30it/s]\n"
     ]
    }
   ],
   "source": [
    "config = Config()\n",
    "model = Model(config)\n",
    "model.to(config.device)\n",
    "data_iter = DataIter(config)\n",
    "test_iter = data_iter.build_test()\n",
    "train_iter = data_iter.build_examples(data_iter.train_df)"
   ]
  },
  {
   "cell_type": "code",
   "execution_count": null,
   "metadata": {
    "id": "VovDySxL3fsK"
   },
   "outputs": [],
   "source": [
    "class FGM():\n",
    "    def __init__(self, model):\n",
    "        self.model = model\n",
    "        self.backup = {}\n",
    "\n",
    "    def attack(self, epsilon=1., emb_name='word_embeddings'):\n",
    "        # emb_name这个参数要换成你模型中embedding的参数名\n",
    "        for name, param in self.model.named_parameters():\n",
    "            if param.requires_grad and emb_name in name:\n",
    "                self.backup[name] = param.data.clone()\n",
    "                norm = torch.norm(param.grad)\n",
    "                if norm != 0:\n",
    "                    r_at = epsilon * param.grad / norm\n",
    "                    param.data.add_(r_at)\n",
    "\n",
    "    def restore(self, emb_name='word_embeddings'):\n",
    "        # emb_name这个参数要换成你模型中embedding的参数名\n",
    "        for name, param in self.model.named_parameters():\n",
    "            if param.requires_grad and emb_name in name:\n",
    "                assert name in self.backup\n",
    "                param.data = self.backup[name]\n",
    "        self.backup = {}"
   ]
  },
  {
   "cell_type": "code",
   "execution_count": 7,
   "metadata": {
    "executionInfo": {
     "elapsed": 81060,
     "status": "ok",
     "timestamp": 1607348614731,
     "user": {
      "displayName": "simon phsy",
      "photoUrl": "",
      "userId": "11831948968995323213"
     },
     "user_tz": -480
    },
    "id": "FbJ8I3Za3fsK"
   },
   "outputs": [],
   "source": [
    "from sklearn.model_selection import StratifiedKFold\n",
    "from sklearn.metrics import f1_score,accuracy_score, recall_score\n",
    "import numpy as np\n",
    "import os\n",
    "from tqdm.notebook import tqdm\n",
    "from transformers import get_linear_schedule_with_warmup, AdamW\n",
    "\n",
    "def predict(config, model, test_iter):\n",
    "    all_pred = []\n",
    "    for i, batch in enumerate(test_iter):\n",
    "        print(\"\\r 正在预测输出%d/%d\"%(i, len(test_iter)), end=\"\")\n",
    "        model.eval()\n",
    "        with torch.no_grad():\n",
    "            input_ids, attention_masks= batch\n",
    "            out = model(input_ids, attention_masks)\n",
    "            y_pred = torch.softmax(out, dim=-1).detach().cpu().numpy()\n",
    "\n",
    "            all_pred.append(y_pred)\n",
    "    print(\"\\r预测完成.\\n\")\n",
    "    return np.concatenate(all_pred)\n",
    "\n",
    "def evaluate(config, model, data_iter):\n",
    "    all_pred = np.array([])\n",
    "    all_true = np.array([])\n",
    "    total_loss = 0.\n",
    "    criterion = nn.CrossEntropyLoss()\n",
    "    for i, batch in enumerate(data_iter):\n",
    "        model.eval()\n",
    "        with torch.no_grad():\n",
    "            input_ids, attention_masks, label = batch\n",
    "            out = model(input_ids, attention_masks)\n",
    "            loss = criterion(out, label)\n",
    "            total_loss += loss.item()\n",
    "            y_pred = torch.argmax(out, dim=-1).float().detach().cpu().numpy()\n",
    "            y_true = label.detach().cpu().numpy()\n",
    "            all_pred = np.append(all_pred, y_pred, axis=0)\n",
    "            all_true = np.append(all_true, y_true, axis=0)\n",
    "    accuracy = accuracy_score(all_true, all_pred)\n",
    "    return total_loss / len(data_iter), accuracy\n",
    "\n",
    "def train(config, Model, train_iter, test_iter, data_iter):\n",
    "\n",
    "    save_path = \"output\"\n",
    "    if not os.path.exists(save_path):\n",
    "        os.makedirs(save_path)\n",
    "    gkf = StratifiedKFold(n_splits=5, shuffle=True).split(data_iter.train_df.content, data_iter.train_df.label)\n",
    "    for fold, (train_idx, valid_idx) in enumerate(gkf):\n",
    "        train_inputs = [train_iter[i][train_idx] for i in range(len(train_iter))]\n",
    "        valid_inputs = [train_iter[i][valid_idx] for i in range(len(train_iter))]\n",
    "        train, dev = data_iter.build_iterator(train_inputs, valid_inputs)\n",
    "        model = Model(config)\n",
    "        model.to(config.device)\n",
    "        # fgm = FGM(model)\n",
    "        best_loss = float('inf')\n",
    "        stop_steps = 0\n",
    "        early_stop = 3000\n",
    "        flag = False\n",
    "\n",
    "        no_decay = ['bias', 'LayerNorm.weight']\n",
    "        optimizer_grouped_parameters = [\n",
    "            {'params': [p for n, p in model.named_parameters() if not any(nd in n for nd in no_decay)],\n",
    "             'weight_decay': config.weight_decay},\n",
    "            {'params': [p for n, p in model.named_parameters() if any(nd in n for nd in no_decay)], 'weight_decay': 0.0}\n",
    "        ]\n",
    "\n",
    "        t_total = len(train) * config.num_epochs\n",
    "        optimizer = AdamW(optimizer_grouped_parameters, lr=config.learning_rate, eps=config.adam_epsilon)\n",
    "        scheduler = get_linear_schedule_with_warmup(optimizer, num_warmup_steps=t_total * config.warmup_rate, num_training_steps=t_total)\n",
    "        criterion = nn.CrossEntropyLoss()\n",
    "        tqdm.write(\"*************************************Fold:[{}/{}]**********************************\".format(fold+1, 5))\n",
    "        for epoch in range(config.num_epochs):\n",
    "            epoch_loss = 0.\n",
    "            tqdm.write(\"EPOCH:[{}/{}]\".format(epoch+1, config.num_epochs))\n",
    "            for i, batch in enumerate(tqdm(train)):\n",
    "                model.train()\n",
    "\n",
    "                input_ids, attention_masks, label = batch\n",
    "                out = model(input_ids, attention_masks)\n",
    "                loss = criterion(out, label)\n",
    "                loss.backward()\n",
    "                # fgm.attack() # 在embedding上添加对抗扰动\n",
    "                # out_adv = model(input_ids, attention_masks)\n",
    "                # loss_adv = criterion(out_adv, label)\n",
    "                # loss_adv.backward() # 反向传播，并在正常的grad基础上，累加对抗训练的梯度\n",
    "                # fgm.restore() # 恢复embedding参数\n",
    "                epoch_loss += loss.item()\n",
    "                optimizer.step()\n",
    "                scheduler.step()\n",
    "                model.zero_grad()\n",
    "                \n",
    "                msg = \"ITER:{}, TRAIN_LOSS:{:.3f}, TRAIN_ACC:{:.2%},DEV_LOSS:{:.3f},DEV_ACC:{:.2%},NO_IMPROVEMENT:{}\"\n",
    "                if stop_steps > early_stop:\n",
    "                    print(\"more than {} steps not improved yet, early stopping\".format(stop_steps))\n",
    "                    flag = True\n",
    "                    break\n",
    "                if i % 500 == 0:\n",
    "                    y_pred = torch.argmax(out, dim=-1).float().detach().cpu().numpy()\n",
    "                    y_true = label.detach().cpu().numpy()\n",
    "                    accuracy = accuracy_score(y_true, y_pred)\n",
    "                    dev_loss, dev_acc = evaluate(config, model, dev)\n",
    "                    tqdm.write(msg.format(i, loss.item(), accuracy, dev_loss, dev_acc, stop_steps))\n",
    "                        \n",
    "                    if dev_loss < best_loss:\n",
    "                        best_loss = dev_loss\n",
    "                        stop_steps = 0\n",
    "                        torch.save({'state_dict': model.state_dict()}, 'output/checkpoint{}.pth.tar'.format(fold))\n",
    "                stop_steps += 1\n",
    "            if flag:\n",
    "                break\n",
    "        print(\"*********************************************************************************\")\n",
    "        data_iter._gc()"
   ]
  },
  {
   "cell_type": "code",
   "execution_count": null,
   "metadata": {
    "colab": {
     "base_uri": "https://localhost:8080/",
     "height": 279,
     "referenced_widgets": [
      "90a4ffbb7da541f3abb6097fab7a9e1c",
      "4326775dd5b74b9683918b32d76310c8",
      "80bcfe3ab51647e69308d6d6ca50c3d3",
      "beed00ee99684402999fd25f3b5708e9",
      "98440171049344859e2f26dd1918c088",
      "0bcc5399834f487fadc1f2a09c1ac6cc",
      "109df75dd5344fbaae04fe7c75679218",
      "e0094b4441214f6ab2f1d7e889492822",
      "de32083619524e0fa399f1f27a4c687a",
      "ee3695fc09b04894a6237d15c71f75e8",
      "f21b99db9dcf4d37bd410493ccdd46a9",
      "6c31b84882904c4a97863d65cfd60989",
      "df58c717ce854d558acbc781d06dbc38",
      "c3ce0acbef264906855cb5e1ed0f9b6f",
      "dcb0bf6272c64a11b3697be259971a51",
      "25a61834dd1c48dfab91b95715b0cce5"
     ]
    },
    "id": "srZ8stTc3fsK",
    "outputId": "399486c1-6d4c-45d0-8371-279e616b0354"
   },
   "outputs": [
    {
     "name": "stderr",
     "output_type": "stream",
     "text": [
      "WARNING:root:Building dataset...\n",
      "WARNING:root:Loading data from storage, it may cost a time.\n"
     ]
    },
    {
     "name": "stdout",
     "output_type": "stream",
     "text": [
      "*************************************Fold:[1/5]**********************************\n",
      "EPOCH:[1/10]\n"
     ]
    },
    {
     "data": {
      "application/vnd.jupyter.widget-view+json": {
       "model_id": "90a4ffbb7da541f3abb6097fab7a9e1c",
       "version_major": 2,
       "version_minor": 0
      },
      "text/plain": [
       "HBox(children=(FloatProgress(value=0.0, max=1233.0), HTML(value='')))"
      ]
     },
     "metadata": {
      "tags": []
     },
     "output_type": "display_data"
    },
    {
     "name": "stdout",
     "output_type": "stream",
     "text": [
      "ITER:0, TRAIN_LOSS:3.316, TRAIN_ACC:6.25%,DEV_LOSS:3.124,DEV_ACC:10.73%,NO_IMPROVEMENT:0\n",
      "ITER:500, TRAIN_LOSS:0.848, TRAIN_ACC:75.00%,DEV_LOSS:1.185,DEV_ACC:66.34%,NO_IMPROVEMENT:500\n",
      "ITER:1000, TRAIN_LOSS:0.772, TRAIN_ACC:81.25%,DEV_LOSS:0.778,DEV_ACC:79.59%,NO_IMPROVEMENT:500\n",
      "\n",
      "EPOCH:[2/10]\n"
     ]
    },
    {
     "data": {
      "application/vnd.jupyter.widget-view+json": {
       "model_id": "de32083619524e0fa399f1f27a4c687a",
       "version_major": 2,
       "version_minor": 0
      },
      "text/plain": [
       "HBox(children=(FloatProgress(value=0.0, max=1233.0), HTML(value='')))"
      ]
     },
     "metadata": {
      "tags": []
     },
     "output_type": "display_data"
    },
    {
     "name": "stdout",
     "output_type": "stream",
     "text": [
      "ITER:0, TRAIN_LOSS:1.024, TRAIN_ACC:65.62%,DEV_LOSS:0.706,DEV_ACC:80.99%,NO_IMPROVEMENT:233\n",
      "ITER:500, TRAIN_LOSS:0.827, TRAIN_ACC:78.12%,DEV_LOSS:0.620,DEV_ACC:82.84%,NO_IMPROVEMENT:500\n"
     ]
    }
   ],
   "source": [
    "train(config, Model, train_iter, test_iter, data_iter)"
   ]
  },
  {
   "cell_type": "code",
   "execution_count": 6,
   "metadata": {
    "colab": {
     "base_uri": "https://localhost:8080/"
    },
    "executionInfo": {
     "elapsed": 213928,
     "status": "ok",
     "timestamp": 1607338937294,
     "user": {
      "displayName": "simon phsy",
      "photoUrl": "",
      "userId": "11831948968995323213"
     },
     "user_tz": -480
    },
    "id": "oaZoeP_LFkBO",
    "outputId": "cdd77f97-866b-4917-cdb8-67604f1344b0"
   },
   "outputs": [
    {
     "name": "stdout",
     "output_type": "stream",
     "text": [
      "预测完成.\n",
      "\n",
      "预测完成.\n",
      "\n",
      "预测完成.\n",
      "\n",
      "预测完成.\n",
      "\n",
      "预测完成.\n",
      "\n"
     ]
    }
   ],
   "source": [
    "predictions = []\n",
    "for i in range(5):\n",
    "    checkpoint = torch.load('output/checkpoint{}.pth.tar'.format(i))\n",
    "    model.load_state_dict(checkpoint['state_dict'])\n",
    "    all_pred = predict(config, model, test_iter)\n",
    "    predictions.append(all_pred)\n",
    "\n",
    "pred = None\n",
    "pred = predictions[0]\n",
    "for i in range(1,5):\n",
    "    pred += predictions[i]\n",
    "pred = (pred/5)\n",
    "pred = np.argmax(pred, axis=-1)"
   ]
  },
  {
   "cell_type": "code",
   "execution_count": 8,
   "metadata": {
    "executionInfo": {
     "elapsed": 1595,
     "status": "ok",
     "timestamp": 1607338942607,
     "user": {
      "displayName": "simon phsy",
      "photoUrl": "",
      "userId": "11831948968995323213"
     },
     "user_tz": -480
    },
    "id": "uLuxy1s6FqVC"
   },
   "outputs": [],
   "source": [
    "import pandas as pd\n",
    "\n",
    "submit = pd.read_csv(\"submit_content.csv\")\n",
    "labels = ['文化休闲', '医疗卫生', '经济管理', '教育科技', '城乡建设', '工业', '民政社区', '交通运输',\n",
    "       '生态环境', '政法监察', '农业畜牧业', '文秘行政', '劳动人事', '资源能源', '信息产业', '旅游服务',\n",
    "       '商业贸易', '气象水文测绘地震地理', '财税金融', '外交外事']\n",
    "result = [labels[i] for i in pred]\n",
    "submit[\"label\"] = result\n",
    "submit.to_csv(\"submit_content_2.csv\", index=None)"
   ]
  }
 ],
 "metadata": {
  "accelerator": "GPU",
  "colab": {
   "collapsed_sections": [],
   "name": "Bert内容.ipynb",
   "provenance": []
  },
  "kernelspec": {
   "display_name": "Python 3",
   "language": "python",
   "name": "python3"
  },
  "language_info": {
   "codemirror_mode": {
    "name": "ipython",
    "version": 3
   },
   "file_extension": ".py",
   "mimetype": "text/x-python",
   "name": "python",
   "nbconvert_exporter": "python",
   "pygments_lexer": "ipython3",
   "version": "3.8.3"
  },
  "widgets": {
   "application/vnd.jupyter.widget-state+json": {
    "0bcc5399834f487fadc1f2a09c1ac6cc": {
     "model_module": "@jupyter-widgets/base",
     "model_name": "LayoutModel",
     "state": {
      "_model_module": "@jupyter-widgets/base",
      "_model_module_version": "1.2.0",
      "_model_name": "LayoutModel",
      "_view_count": null,
      "_view_module": "@jupyter-widgets/base",
      "_view_module_version": "1.2.0",
      "_view_name": "LayoutView",
      "align_content": null,
      "align_items": null,
      "align_self": null,
      "border": null,
      "bottom": null,
      "display": null,
      "flex": null,
      "flex_flow": null,
      "grid_area": null,
      "grid_auto_columns": null,
      "grid_auto_flow": null,
      "grid_auto_rows": null,
      "grid_column": null,
      "grid_gap": null,
      "grid_row": null,
      "grid_template_areas": null,
      "grid_template_columns": null,
      "grid_template_rows": null,
      "height": null,
      "justify_content": null,
      "justify_items": null,
      "left": null,
      "margin": null,
      "max_height": null,
      "max_width": null,
      "min_height": null,
      "min_width": null,
      "object_fit": null,
      "object_position": null,
      "order": null,
      "overflow": null,
      "overflow_x": null,
      "overflow_y": null,
      "padding": null,
      "right": null,
      "top": null,
      "visibility": null,
      "width": null
     }
    },
    "109df75dd5344fbaae04fe7c75679218": {
     "model_module": "@jupyter-widgets/controls",
     "model_name": "DescriptionStyleModel",
     "state": {
      "_model_module": "@jupyter-widgets/controls",
      "_model_module_version": "1.5.0",
      "_model_name": "DescriptionStyleModel",
      "_view_count": null,
      "_view_module": "@jupyter-widgets/base",
      "_view_module_version": "1.2.0",
      "_view_name": "StyleView",
      "description_width": ""
     }
    },
    "25a61834dd1c48dfab91b95715b0cce5": {
     "model_module": "@jupyter-widgets/base",
     "model_name": "LayoutModel",
     "state": {
      "_model_module": "@jupyter-widgets/base",
      "_model_module_version": "1.2.0",
      "_model_name": "LayoutModel",
      "_view_count": null,
      "_view_module": "@jupyter-widgets/base",
      "_view_module_version": "1.2.0",
      "_view_name": "LayoutView",
      "align_content": null,
      "align_items": null,
      "align_self": null,
      "border": null,
      "bottom": null,
      "display": null,
      "flex": null,
      "flex_flow": null,
      "grid_area": null,
      "grid_auto_columns": null,
      "grid_auto_flow": null,
      "grid_auto_rows": null,
      "grid_column": null,
      "grid_gap": null,
      "grid_row": null,
      "grid_template_areas": null,
      "grid_template_columns": null,
      "grid_template_rows": null,
      "height": null,
      "justify_content": null,
      "justify_items": null,
      "left": null,
      "margin": null,
      "max_height": null,
      "max_width": null,
      "min_height": null,
      "min_width": null,
      "object_fit": null,
      "object_position": null,
      "order": null,
      "overflow": null,
      "overflow_x": null,
      "overflow_y": null,
      "padding": null,
      "right": null,
      "top": null,
      "visibility": null,
      "width": null
     }
    },
    "4326775dd5b74b9683918b32d76310c8": {
     "model_module": "@jupyter-widgets/base",
     "model_name": "LayoutModel",
     "state": {
      "_model_module": "@jupyter-widgets/base",
      "_model_module_version": "1.2.0",
      "_model_name": "LayoutModel",
      "_view_count": null,
      "_view_module": "@jupyter-widgets/base",
      "_view_module_version": "1.2.0",
      "_view_name": "LayoutView",
      "align_content": null,
      "align_items": null,
      "align_self": null,
      "border": null,
      "bottom": null,
      "display": null,
      "flex": null,
      "flex_flow": null,
      "grid_area": null,
      "grid_auto_columns": null,
      "grid_auto_flow": null,
      "grid_auto_rows": null,
      "grid_column": null,
      "grid_gap": null,
      "grid_row": null,
      "grid_template_areas": null,
      "grid_template_columns": null,
      "grid_template_rows": null,
      "height": null,
      "justify_content": null,
      "justify_items": null,
      "left": null,
      "margin": null,
      "max_height": null,
      "max_width": null,
      "min_height": null,
      "min_width": null,
      "object_fit": null,
      "object_position": null,
      "order": null,
      "overflow": null,
      "overflow_x": null,
      "overflow_y": null,
      "padding": null,
      "right": null,
      "top": null,
      "visibility": null,
      "width": null
     }
    },
    "6c31b84882904c4a97863d65cfd60989": {
     "model_module": "@jupyter-widgets/controls",
     "model_name": "HTMLModel",
     "state": {
      "_dom_classes": [],
      "_model_module": "@jupyter-widgets/controls",
      "_model_module_version": "1.5.0",
      "_model_name": "HTMLModel",
      "_view_count": null,
      "_view_module": "@jupyter-widgets/controls",
      "_view_module_version": "1.5.0",
      "_view_name": "HTMLView",
      "description": "",
      "description_tooltip": null,
      "layout": "IPY_MODEL_25a61834dd1c48dfab91b95715b0cce5",
      "placeholder": "​",
      "style": "IPY_MODEL_dcb0bf6272c64a11b3697be259971a51",
      "value": " 519/1233 [03:53&lt;04:00,  2.96it/s]"
     }
    },
    "80bcfe3ab51647e69308d6d6ca50c3d3": {
     "model_module": "@jupyter-widgets/controls",
     "model_name": "FloatProgressModel",
     "state": {
      "_dom_classes": [],
      "_model_module": "@jupyter-widgets/controls",
      "_model_module_version": "1.5.0",
      "_model_name": "FloatProgressModel",
      "_view_count": null,
      "_view_module": "@jupyter-widgets/controls",
      "_view_module_version": "1.5.0",
      "_view_name": "ProgressView",
      "bar_style": "success",
      "description": "100%",
      "description_tooltip": null,
      "layout": "IPY_MODEL_0bcc5399834f487fadc1f2a09c1ac6cc",
      "max": 1233,
      "min": 0,
      "orientation": "horizontal",
      "style": "IPY_MODEL_98440171049344859e2f26dd1918c088",
      "value": 1233
     }
    },
    "90a4ffbb7da541f3abb6097fab7a9e1c": {
     "model_module": "@jupyter-widgets/controls",
     "model_name": "HBoxModel",
     "state": {
      "_dom_classes": [],
      "_model_module": "@jupyter-widgets/controls",
      "_model_module_version": "1.5.0",
      "_model_name": "HBoxModel",
      "_view_count": null,
      "_view_module": "@jupyter-widgets/controls",
      "_view_module_version": "1.5.0",
      "_view_name": "HBoxView",
      "box_style": "",
      "children": [
       "IPY_MODEL_80bcfe3ab51647e69308d6d6ca50c3d3",
       "IPY_MODEL_beed00ee99684402999fd25f3b5708e9"
      ],
      "layout": "IPY_MODEL_4326775dd5b74b9683918b32d76310c8"
     }
    },
    "98440171049344859e2f26dd1918c088": {
     "model_module": "@jupyter-widgets/controls",
     "model_name": "ProgressStyleModel",
     "state": {
      "_model_module": "@jupyter-widgets/controls",
      "_model_module_version": "1.5.0",
      "_model_name": "ProgressStyleModel",
      "_view_count": null,
      "_view_module": "@jupyter-widgets/base",
      "_view_module_version": "1.2.0",
      "_view_name": "StyleView",
      "bar_color": null,
      "description_width": "initial"
     }
    },
    "beed00ee99684402999fd25f3b5708e9": {
     "model_module": "@jupyter-widgets/controls",
     "model_name": "HTMLModel",
     "state": {
      "_dom_classes": [],
      "_model_module": "@jupyter-widgets/controls",
      "_model_module_version": "1.5.0",
      "_model_name": "HTMLModel",
      "_view_count": null,
      "_view_module": "@jupyter-widgets/controls",
      "_view_module_version": "1.5.0",
      "_view_name": "HTMLView",
      "description": "",
      "description_tooltip": null,
      "layout": "IPY_MODEL_e0094b4441214f6ab2f1d7e889492822",
      "placeholder": "​",
      "style": "IPY_MODEL_109df75dd5344fbaae04fe7c75679218",
      "value": " 1233/1233 [08:18&lt;00:00,  2.48it/s]"
     }
    },
    "c3ce0acbef264906855cb5e1ed0f9b6f": {
     "model_module": "@jupyter-widgets/base",
     "model_name": "LayoutModel",
     "state": {
      "_model_module": "@jupyter-widgets/base",
      "_model_module_version": "1.2.0",
      "_model_name": "LayoutModel",
      "_view_count": null,
      "_view_module": "@jupyter-widgets/base",
      "_view_module_version": "1.2.0",
      "_view_name": "LayoutView",
      "align_content": null,
      "align_items": null,
      "align_self": null,
      "border": null,
      "bottom": null,
      "display": null,
      "flex": null,
      "flex_flow": null,
      "grid_area": null,
      "grid_auto_columns": null,
      "grid_auto_flow": null,
      "grid_auto_rows": null,
      "grid_column": null,
      "grid_gap": null,
      "grid_row": null,
      "grid_template_areas": null,
      "grid_template_columns": null,
      "grid_template_rows": null,
      "height": null,
      "justify_content": null,
      "justify_items": null,
      "left": null,
      "margin": null,
      "max_height": null,
      "max_width": null,
      "min_height": null,
      "min_width": null,
      "object_fit": null,
      "object_position": null,
      "order": null,
      "overflow": null,
      "overflow_x": null,
      "overflow_y": null,
      "padding": null,
      "right": null,
      "top": null,
      "visibility": null,
      "width": null
     }
    },
    "dcb0bf6272c64a11b3697be259971a51": {
     "model_module": "@jupyter-widgets/controls",
     "model_name": "DescriptionStyleModel",
     "state": {
      "_model_module": "@jupyter-widgets/controls",
      "_model_module_version": "1.5.0",
      "_model_name": "DescriptionStyleModel",
      "_view_count": null,
      "_view_module": "@jupyter-widgets/base",
      "_view_module_version": "1.2.0",
      "_view_name": "StyleView",
      "description_width": ""
     }
    },
    "de32083619524e0fa399f1f27a4c687a": {
     "model_module": "@jupyter-widgets/controls",
     "model_name": "HBoxModel",
     "state": {
      "_dom_classes": [],
      "_model_module": "@jupyter-widgets/controls",
      "_model_module_version": "1.5.0",
      "_model_name": "HBoxModel",
      "_view_count": null,
      "_view_module": "@jupyter-widgets/controls",
      "_view_module_version": "1.5.0",
      "_view_name": "HBoxView",
      "box_style": "",
      "children": [
       "IPY_MODEL_f21b99db9dcf4d37bd410493ccdd46a9",
       "IPY_MODEL_6c31b84882904c4a97863d65cfd60989"
      ],
      "layout": "IPY_MODEL_ee3695fc09b04894a6237d15c71f75e8"
     }
    },
    "df58c717ce854d558acbc781d06dbc38": {
     "model_module": "@jupyter-widgets/controls",
     "model_name": "ProgressStyleModel",
     "state": {
      "_model_module": "@jupyter-widgets/controls",
      "_model_module_version": "1.5.0",
      "_model_name": "ProgressStyleModel",
      "_view_count": null,
      "_view_module": "@jupyter-widgets/base",
      "_view_module_version": "1.2.0",
      "_view_name": "StyleView",
      "bar_color": null,
      "description_width": "initial"
     }
    },
    "e0094b4441214f6ab2f1d7e889492822": {
     "model_module": "@jupyter-widgets/base",
     "model_name": "LayoutModel",
     "state": {
      "_model_module": "@jupyter-widgets/base",
      "_model_module_version": "1.2.0",
      "_model_name": "LayoutModel",
      "_view_count": null,
      "_view_module": "@jupyter-widgets/base",
      "_view_module_version": "1.2.0",
      "_view_name": "LayoutView",
      "align_content": null,
      "align_items": null,
      "align_self": null,
      "border": null,
      "bottom": null,
      "display": null,
      "flex": null,
      "flex_flow": null,
      "grid_area": null,
      "grid_auto_columns": null,
      "grid_auto_flow": null,
      "grid_auto_rows": null,
      "grid_column": null,
      "grid_gap": null,
      "grid_row": null,
      "grid_template_areas": null,
      "grid_template_columns": null,
      "grid_template_rows": null,
      "height": null,
      "justify_content": null,
      "justify_items": null,
      "left": null,
      "margin": null,
      "max_height": null,
      "max_width": null,
      "min_height": null,
      "min_width": null,
      "object_fit": null,
      "object_position": null,
      "order": null,
      "overflow": null,
      "overflow_x": null,
      "overflow_y": null,
      "padding": null,
      "right": null,
      "top": null,
      "visibility": null,
      "width": null
     }
    },
    "ee3695fc09b04894a6237d15c71f75e8": {
     "model_module": "@jupyter-widgets/base",
     "model_name": "LayoutModel",
     "state": {
      "_model_module": "@jupyter-widgets/base",
      "_model_module_version": "1.2.0",
      "_model_name": "LayoutModel",
      "_view_count": null,
      "_view_module": "@jupyter-widgets/base",
      "_view_module_version": "1.2.0",
      "_view_name": "LayoutView",
      "align_content": null,
      "align_items": null,
      "align_self": null,
      "border": null,
      "bottom": null,
      "display": null,
      "flex": null,
      "flex_flow": null,
      "grid_area": null,
      "grid_auto_columns": null,
      "grid_auto_flow": null,
      "grid_auto_rows": null,
      "grid_column": null,
      "grid_gap": null,
      "grid_row": null,
      "grid_template_areas": null,
      "grid_template_columns": null,
      "grid_template_rows": null,
      "height": null,
      "justify_content": null,
      "justify_items": null,
      "left": null,
      "margin": null,
      "max_height": null,
      "max_width": null,
      "min_height": null,
      "min_width": null,
      "object_fit": null,
      "object_position": null,
      "order": null,
      "overflow": null,
      "overflow_x": null,
      "overflow_y": null,
      "padding": null,
      "right": null,
      "top": null,
      "visibility": null,
      "width": null
     }
    },
    "f21b99db9dcf4d37bd410493ccdd46a9": {
     "model_module": "@jupyter-widgets/controls",
     "model_name": "FloatProgressModel",
     "state": {
      "_dom_classes": [],
      "_model_module": "@jupyter-widgets/controls",
      "_model_module_version": "1.5.0",
      "_model_name": "FloatProgressModel",
      "_view_count": null,
      "_view_module": "@jupyter-widgets/controls",
      "_view_module_version": "1.5.0",
      "_view_name": "ProgressView",
      "bar_style": "",
      "description": " 42%",
      "description_tooltip": null,
      "layout": "IPY_MODEL_c3ce0acbef264906855cb5e1ed0f9b6f",
      "max": 1233,
      "min": 0,
      "orientation": "horizontal",
      "style": "IPY_MODEL_df58c717ce854d558acbc781d06dbc38",
      "value": 519
     }
    }
   }
  }
 },
 "nbformat": 4,
 "nbformat_minor": 4
}
