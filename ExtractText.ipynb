{
 "cells": [
  {
   "cell_type": "code",
   "execution_count": 1,
   "metadata": {},
   "outputs": [],
   "source": [
    "import pandas as pd\n",
    "from xlrd import XLRDError\n",
    "from tqdm import tqdm\n",
    "from w3lib.html import remove_tags\n",
    "import xlrd\n",
    "import re\n",
    "import os\n",
    "\n",
    "zhPattern = re.compile(u'[\\u4e00-\\u9fa5]+')\n",
    "casePattern = re.compile(u'[A-Z]')\n",
    "\n",
    "# 读取文件的规则，如果xlrd能打开就优先使用xlrd读取，如果xlrd读取失败，则说明是文本文件，优先用csv读取\n",
    "def open_file(filename):\n",
    "    try:\n",
    "        data = xlrd.open_workbook(filename)\n",
    "        return data\n",
    "    except XLRDError:\n",
    "        return html_csv_reader(filename)\n",
    "    \n",
    "def clean_str(text):\n",
    "    reg = \"[^A-Za-z\\u4e00-\\u9fa5]\"\n",
    "    return re.sub(reg, '', text)\n",
    "            \n",
    "def html_csv_reader(filename):\n",
    "    try:\n",
    "        with open(filename, encoding=\"utf-8\") as fin:\n",
    "            html = \"\"\n",
    "            for i in range(5):\n",
    "                html += fin.readline().strip()\n",
    "            html = remove_tags(html)\n",
    "            return clean_str(html)\n",
    "    except UnicodeError:\n",
    "        print(\"文件无法打开：\"+filename)\n",
    "    \n",
    "def data_handler(data, truncate_length=500):\n",
    "    if isinstance(data, xlrd.book.Book):\n",
    "        return xls_data_reader(data)[:truncate_length]\n",
    "    elif isinstance(data, pd.DataFrame):\n",
    "        ans = (data.iloc[:5]).values.tolist()\n",
    "        res = []\n",
    "        for x in ans:\n",
    "            res.append(\" \".join([str(_) for _ in x]))\n",
    "        return \" \".join(res)\n",
    "    else:\n",
    "        return data[:truncate_length]\n",
    "        \n",
    "def xls_data_reader(data):\n",
    "    # 首先判断要读取哪个表格，优先级：中文名>默认名(Sheet1)>第一个索引\n",
    "    sheet_name = \"\"\n",
    "    sheet_index = 0\n",
    "    for name in data.sheet_names():\n",
    "        if zhPattern.search(name):\n",
    "            sheet_name = name\n",
    "    if sheet_name == \"\" and \"Sheet1\" in data.sheet_names():\n",
    "        sheet_name = \"Sheet1\"\n",
    "    if sheet_name != \"\":\n",
    "        table = data.sheet_by_name(sheet_name)\n",
    "    else:\n",
    "        table = data.sheet_by_index(sheet_index)\n",
    "    # 如果有效行数和列数为0，就换一张表，直到表中有数据为止，如果表读完了发现都没有数据，那么就返回空\n",
    "    while table.nrows == 0:\n",
    "        try:\n",
    "            table = data.sheet_by_index(sheet_index+1)\n",
    "        except IndexError:\n",
    "            return ''\n",
    "    # 取前面五行数据\n",
    "    res = []\n",
    "    for i in range(min(table.nrows, 5)):\n",
    "        content = \" \".join([str(_) for _ in table.row_values(i)])\n",
    "        res.append(content)\n",
    "\n",
    "    return clean_str(\" \".join(res))\n",
    "\n",
    "def get_file_content(path, filename):\n",
    "    return data_handler(open_file(os.path.join(path, filename)))"
   ]
  },
  {
   "cell_type": "code",
   "execution_count": 7,
   "metadata": {},
   "outputs": [],
   "source": [
    "class Config:\n",
    "    def __init__(self):\n",
    "        self.train_path = \"data/train\"\n",
    "        self.test_path = \"data/test2\"\n",
    "        self.save_train = \"model/train.csv\"\n",
    "        self.save_test = \"model/test.csv\"\n",
    "        self.train_filename = os.listdir(self.train_path)\n",
    "        self.test_filename = os.listdir(self.test_path)\n",
    "        self.train = []\n",
    "        self.test = []\n",
    "        \n",
    "    def get_data(self, is_train = True):\n",
    "        if is_train:\n",
    "            P, F = self.train_path, self.train_filename\n",
    "        else:\n",
    "            P, F = self.test_path, self.test_filename\n",
    "        with tqdm(total = len(F), ncols=80) as pbar:\n",
    "            for i, filename in enumerate(F):\n",
    "                pbar.update(1)\n",
    "                content = get_file_content(P, filename)\n",
    "                self.train.append([str(i), filename, content])\n",
    "                \n",
    "    def save_file(self):\n",
    "        for S, C in zip([self.save_train, self.save_test], [self.train, self.test]):\n",
    "            tqdm.write(\"保存文件到:{}\".format(S))\n",
    "            with open(S, 'w', encoding=\"utf-8\") as fin:\n",
    "                for content in tqdm(C):\n",
    "                    try:\n",
    "                        fin.write(\"\\t\".join(content))\n",
    "                    except TypeError:\n",
    "                        print(content)\n",
    "                    fin.write(\"\\n\")\n",
    "\n"
   ]
  },
  {
   "cell_type": "code",
   "execution_count": 8,
   "metadata": {},
   "outputs": [
    {
     "name": "stderr",
     "output_type": "stream",
     "text": [
      "100%|█████████████████████████████████████| 60000/60000 [12:34<00:00, 79.48it/s]\n",
      "100%|█████████████████████████████████████| 25459/25459 [04:48<00:00, 88.33it/s]\n"
     ]
    }
   ],
   "source": [
    "config = Config()\n",
    "config.get_data()\n",
    "config.get_data(is_train=False)"
   ]
  },
  {
   "cell_type": "code",
   "execution_count": 9,
   "metadata": {},
   "outputs": [
    {
     "name": "stderr",
     "output_type": "stream",
     "text": [
      " 23%|█████████████████████████████████▋                                                                                                                 | 19593/85459 [00:00<00:00, 171451.28it/s]"
     ]
    },
    {
     "name": "stdout",
     "output_type": "stream",
     "text": [
      "保存文件到:model/train.csv\n"
     ]
    },
    {
     "name": "stderr",
     "output_type": "stream",
     "text": [
      "100%|███████████████████████████████████████████████████████████████████████████████████████████████████████████████████████████████████████████████████| 85459/85459 [00:00<00:00, 177072.71it/s]\n",
      "0it [00:00, ?it/s]"
     ]
    },
    {
     "name": "stdout",
     "output_type": "stream",
     "text": [
      "保存文件到:model/test.csv\n"
     ]
    },
    {
     "name": "stderr",
     "output_type": "stream",
     "text": [
      "\n"
     ]
    }
   ],
   "source": [
    "# 代码写错了，保存到同一个文件里面了，都到train.csv里了\n",
    "config.save_file()"
   ]
  },
  {
   "cell_type": "code",
   "execution_count": null,
   "metadata": {},
   "outputs": [],
   "source": []
  }
 ],
 "metadata": {
  "kernelspec": {
   "display_name": "Python 3",
   "language": "python",
   "name": "python3"
  },
  "language_info": {
   "codemirror_mode": {
    "name": "ipython",
    "version": 3
   },
   "file_extension": ".py",
   "mimetype": "text/x-python",
   "name": "python",
   "nbconvert_exporter": "python",
   "pygments_lexer": "ipython3",
   "version": "3.8.3"
  }
 },
 "nbformat": 4,
 "nbformat_minor": 4
}
